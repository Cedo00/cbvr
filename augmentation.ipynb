{
 "cells": [
  {
   "cell_type": "markdown",
   "metadata": {},
   "source": [
    "# Augmentation for frame-level features and video-level features"
   ]
  },
  {
   "cell_type": "markdown",
   "metadata": {},
   "source": [
    "This note answers the following two questions:\n",
    "\n",
    "1. How to perfome data augmention over frame-level features?\n",
    "2. How to perfome data augmention over video-level features?"
   ]
  },
  {
   "cell_type": "markdown",
   "metadata": {},
   "source": [
    "### 0. Setup"
   ]
  },
  {
   "cell_type": "code",
   "execution_count": 1,
   "metadata": {},
   "outputs": [],
   "source": [
    "import numpy as np\n",
    "from data_augmenter import Frame_Level_Augmenter, Video_Level_Augmenter"
   ]
  },
  {
   "cell_type": "markdown",
   "metadata": {},
   "source": [
    "### 1. Augmentation for frame-level features"
   ]
  },
  {
   "cell_type": "code",
   "execution_count": 2,
   "metadata": {},
   "outputs": [
    {
     "name": "stdout",
     "output_type": "stream",
     "text": [
      "[[-0.6235536  -0.90535705 -0.44822978  0.50550119 -0.02782648]\n",
      " [-1.02859073  0.072869   -0.50732775 -0.9271956   1.05620006]\n",
      " [ 1.07593828  1.03311453  0.34317861  0.16404785 -1.0236284 ]\n",
      " [-1.25972658  0.38853909  0.98516284 -0.09839638 -1.29890457]\n",
      " [ 1.29644845 -1.27334989  0.13306375 -0.39547421 -0.49235768]\n",
      " [ 0.40335207 -0.72771485 -0.83376385 -0.26617051  1.025612  ]\n",
      " [ 1.91081159  1.62004108  0.25886422  0.45212089 -1.13554757]\n",
      " [ 1.0761965   0.56507028 -0.79111638 -0.77533702 -0.65562929]\n",
      " [ 1.41041613  0.59244662 -0.71805043  0.12487997  0.99022644]]\n"
     ]
    }
   ],
   "source": [
    "# randomly generate a frame-level feature\n",
    "n_frms = 9 # number of frames\n",
    "frm_feat_dim = 5 # dimensionality of frame feature vector\n",
    "frm_feat = np.random.randn(n_frms, frm_feat_dim)\n",
    "print frm_feat"
   ]
  },
  {
   "cell_type": "code",
   "execution_count": 3,
   "metadata": {},
   "outputs": [
    {
     "data": {
      "text/plain": [
       "[[array([-0.6235536 , -0.90535705, -0.44822978,  0.50550119, -0.02782648]),\n",
       "  array([ 1.07593828,  1.03311453,  0.34317861,  0.16404785, -1.0236284 ]),\n",
       "  array([ 1.29644845, -1.27334989,  0.13306375, -0.39547421, -0.49235768]),\n",
       "  array([ 1.91081159,  1.62004108,  0.25886422,  0.45212089, -1.13554757]),\n",
       "  array([ 1.41041613,  0.59244662, -0.71805043,  0.12487997,  0.99022644])],\n",
       " [array([-1.02859073,  0.072869  , -0.50732775, -0.9271956 ,  1.05620006]),\n",
       "  array([-1.25972658,  0.38853909,  0.98516284, -0.09839638, -1.29890457]),\n",
       "  array([ 0.40335207, -0.72771485, -0.83376385, -0.26617051,  1.025612  ]),\n",
       "  array([ 1.0761965 ,  0.56507028, -0.79111638, -0.77533702, -0.65562929])]]"
      ]
     },
     "execution_count": 3,
     "metadata": {},
     "output_type": "execute_result"
    }
   ],
   "source": [
    "# generate augmented feature\n",
    "f_auger = Frame_Level_Augmenter(stride=2, n_frame_threshold=5)\n",
    "f_auger.get_aug_feat(frm_feat)"
   ]
  },
  {
   "cell_type": "markdown",
   "metadata": {},
   "source": [
    "### 2. Augmentation for video-level features"
   ]
  },
  {
   "cell_type": "code",
   "execution_count": 4,
   "metadata": {},
   "outputs": [],
   "source": [
    "# randomly generate a set of frame-level feature for mean and std calculation\n",
    "n_vid_feats = 1000 # number of frame-level features\n",
    "vid_feat_dim = 5 # dimensionality of frame feature vector\n",
    "vid_feats = np.random.randn(n_vid_feats, vid_feat_dim)"
   ]
  },
  {
   "cell_type": "code",
   "execution_count": 5,
   "metadata": {},
   "outputs": [],
   "source": [
    "# calculate mean and std\n",
    "mean = np.mean(vid_feats, axis=0)\n",
    "std = np.std(vid_feats, axis=0)"
   ]
  },
  {
   "cell_type": "code",
   "execution_count": 6,
   "metadata": {},
   "outputs": [
    {
     "name": "stdout",
     "output_type": "stream",
     "text": [
      "[ 0.11204779 -3.61119416 -0.09824153  0.80992366 -0.1196311 ]\n",
      "-->\n",
      "[ 0.26974022 -3.61119416 -0.09824153  0.3636637  -0.1196311 ]\n"
     ]
    }
   ],
   "source": [
    "v_auger = Video_Level_Augmenter(perturb_intensity=1, perturb_prob=0.5, mean=mean, std=std)\n",
    "vid_feat = np.random.randn(vid_feat_dim)\n",
    "aug_feat = v_auger.get_aug_feat(vid_feat)\n",
    "print vid_feat\n",
    "print \"-->\"\n",
    "print aug_feat"
   ]
  },
  {
   "cell_type": "code",
   "execution_count": null,
   "metadata": {},
   "outputs": [],
   "source": []
  }
 ],
 "metadata": {
  "kernelspec": {
   "display_name": "Python 2",
   "language": "python",
   "name": "python2"
  },
  "language_info": {
   "codemirror_mode": {
    "name": "ipython",
    "version": 2
   },
   "file_extension": ".py",
   "mimetype": "text/x-python",
   "name": "python",
   "nbconvert_exporter": "python",
   "pygments_lexer": "ipython2",
   "version": "2.7.15"
  }
 },
 "nbformat": 4,
 "nbformat_minor": 2
}
